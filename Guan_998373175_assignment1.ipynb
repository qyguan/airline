{
 "cells": [
  {
   "cell_type": "markdown",
   "metadata": {},
   "source": [
    "# MIE1624 Assignment 1\n",
    "\n",
    "Import Libraries\n"
   ]
  },
  {
   "cell_type": "code",
   "execution_count": 1,
   "metadata": {},
   "outputs": [],
   "source": [
    "import numpy as np\n",
    "import pandas as pd\n",
    "import re\n",
    "import html"
   ]
  },
  {
   "cell_type": "markdown",
   "metadata": {},
   "source": [
    "## 1. Data Cleaning\n",
    "\n",
    "Load files from current directory"
   ]
  },
  {
   "cell_type": "code",
   "execution_count": 2,
   "metadata": {},
   "outputs": [],
   "source": [
    "stops = open(\"stop_words.txt\",\"r\")\n",
    "stopWords = stops.read().replace('\\t','\\n').split('\\n')\n",
    "airlineTweets = pd.read_csv(\"US_airline_tweets.csv\")\n",
    "genericTweets = pd.read_csv(\"generic_tweets.txt\")"
   ]
  },
  {
   "cell_type": "markdown",
   "metadata": {},
   "source": [
    "### Define data cleaning methods:"
   ]
  },
  {
   "cell_type": "code",
   "execution_count": 3,
   "metadata": {},
   "outputs": [],
   "source": [
    "#Method 1 - Remove all non ASCII charaters such as 'å'\n",
    "def non_ascii_rm(text):\n",
    "    allAscii = text.encode(\"ascii\", errors=\"ignore\").decode()\n",
    "    return allAscii\n",
    "    \n",
    "#Method 2 - Remove all html tags and attributes\n",
    "def html_tag_rm(text):\n",
    "    noTag = re.compile(r\"<.*?>\").sub(\"\", text)\n",
    "    return noTag\n",
    "\n",
    "#Method 3 - Replace Html character codes with ASCII equivalent\n",
    "def ascii_rpl(text):\n",
    "    return(html.unescape(text))\n",
    "\n",
    "#Method 4 - Remove all URLs\n",
    "def url_rm(text):\n",
    "    return(re.compile(r\"\\w+://\\S*\").sub(\"\", text))\n",
    "\n",
    "#Method 5 - Remove all stopwords - loaded from stopword.txt\n",
    "def stop_words_rm(stopWords,text):\n",
    "    filtered_words = [word for word in text.split(\" \") if word not in stopWords]\n",
    "    return filtered_words\n",
    "\n",
    "#Wraper function to preform all data cleaning method\n",
    "def cleanText(text):\n",
    "    global stopWords\n",
    "    allAscii = non_ascii_rm(text.lower()) #make sure all lowercase\n",
    "    noTag = html_tag_rm(allAscii) \n",
    "    asciiRpl = ascii_rpl(noTag)\n",
    "    noUrl = url_rm(asciiRpl)\n",
    "    noStopWords = stop_words_rm(stopWords, noUrl)\n",
    "    return(\" \".join(noStopWords))"
   ]
  },
  {
   "cell_type": "markdown",
   "metadata": {},
   "source": [
    "Clean Data using methods defined above"
   ]
  },
  {
   "cell_type": "code",
   "execution_count": 4,
   "metadata": {},
   "outputs": [],
   "source": [
    "cleandata = lambda x: cleanText(x)\n",
    "genericTweets[\"text\"] = genericTweets[\"text\"].map(cleandata)\n",
    "airlineTweets[\"text\"] = airlineTweets[\"text\"].map(cleandata)\n",
    "\n",
    "genericTweets.to_csv(\"generic_tweets_clean.csv\")\n",
    "airlineTweets.to_csv(\"US_airline_tweets_clean.csv\")"
   ]
  },
  {
   "cell_type": "markdown",
   "metadata": {},
   "source": [
    "## 2. Exploratory Analysis"
   ]
  },
  {
   "cell_type": "code",
   "execution_count": 5,
   "metadata": {},
   "outputs": [
    {
     "data": {
      "text/html": [
       "<div>\n",
       "<style scoped>\n",
       "    .dataframe tbody tr th:only-of-type {\n",
       "        vertical-align: middle;\n",
       "    }\n",
       "\n",
       "    .dataframe tbody tr th {\n",
       "        vertical-align: top;\n",
       "    }\n",
       "\n",
       "    .dataframe thead th {\n",
       "        text-align: right;\n",
       "    }\n",
       "</style>\n",
       "<table border=\"1\" class=\"dataframe\">\n",
       "  <thead>\n",
       "    <tr style=\"text-align: right;\">\n",
       "      <th></th>\n",
       "      <th>atUser</th>\n",
       "      <th>counts</th>\n",
       "    </tr>\n",
       "  </thead>\n",
       "  <tbody>\n",
       "    <tr>\n",
       "      <th>626</th>\n",
       "      <td>@united</td>\n",
       "      <td>3192</td>\n",
       "    </tr>\n",
       "    <tr>\n",
       "      <th>636</th>\n",
       "      <td>@usairways</td>\n",
       "      <td>2607</td>\n",
       "    </tr>\n",
       "    <tr>\n",
       "      <th>47</th>\n",
       "      <td>@americanair</td>\n",
       "      <td>2462</td>\n",
       "    </tr>\n",
       "    <tr>\n",
       "      <th>556</th>\n",
       "      <td>@southwestair</td>\n",
       "      <td>1788</td>\n",
       "    </tr>\n",
       "    <tr>\n",
       "      <th>318</th>\n",
       "      <td>@jetblue</td>\n",
       "      <td>1519</td>\n",
       "    </tr>\n",
       "    <tr>\n",
       "      <th>648</th>\n",
       "      <td>@virginamerica</td>\n",
       "      <td>344</td>\n",
       "    </tr>\n",
       "    <tr>\n",
       "      <th>181</th>\n",
       "      <td>@delta</td>\n",
       "      <td>60</td>\n",
       "    </tr>\n",
       "    <tr>\n",
       "      <th>488</th>\n",
       "      <td>@phlairport</td>\n",
       "      <td>17</td>\n",
       "    </tr>\n",
       "    <tr>\n",
       "      <th>299</th>\n",
       "      <td>@imaginedragons</td>\n",
       "      <td>17</td>\n",
       "    </tr>\n",
       "    <tr>\n",
       "      <th>188</th>\n",
       "      <td>@dfwairport</td>\n",
       "      <td>12</td>\n",
       "    </tr>\n",
       "    <tr>\n",
       "      <th>255</th>\n",
       "      <td>@fortunemagazine</td>\n",
       "      <td>10</td>\n",
       "    </tr>\n",
       "    <tr>\n",
       "      <th>559</th>\n",
       "      <td>@spiritairlines</td>\n",
       "      <td>8</td>\n",
       "    </tr>\n",
       "    <tr>\n",
       "      <th>387</th>\n",
       "      <td>@love_dragonss</td>\n",
       "      <td>7</td>\n",
       "    </tr>\n",
       "    <tr>\n",
       "      <th>164</th>\n",
       "      <td>@cowboycerrone</td>\n",
       "      <td>7</td>\n",
       "    </tr>\n",
       "    <tr>\n",
       "      <th>30</th>\n",
       "      <td>@aircanada</td>\n",
       "      <td>6</td>\n",
       "    </tr>\n",
       "    <tr>\n",
       "      <th>152</th>\n",
       "      <td>@cnn</td>\n",
       "      <td>6</td>\n",
       "    </tr>\n",
       "    <tr>\n",
       "      <th>204</th>\n",
       "      <td>@dulles_airport</td>\n",
       "      <td>6</td>\n",
       "    </tr>\n",
       "    <tr>\n",
       "      <th>563</th>\n",
       "      <td>@staralliance</td>\n",
       "      <td>6</td>\n",
       "    </tr>\n",
       "    <tr>\n",
       "      <th>266</th>\n",
       "      <td>@gg8929</td>\n",
       "      <td>6</td>\n",
       "    </tr>\n",
       "    <tr>\n",
       "      <th>660</th>\n",
       "      <td>@wsj</td>\n",
       "      <td>6</td>\n",
       "    </tr>\n",
       "  </tbody>\n",
       "</table>\n",
       "</div>"
      ],
      "text/plain": [
       "               atUser  counts\n",
       "626           @united    3192\n",
       "636        @usairways    2607\n",
       "47       @americanair    2462\n",
       "556     @southwestair    1788\n",
       "318          @jetblue    1519\n",
       "648    @virginamerica     344\n",
       "181            @delta      60\n",
       "488       @phlairport      17\n",
       "299   @imaginedragons      17\n",
       "188       @dfwairport      12\n",
       "255  @fortunemagazine      10\n",
       "559   @spiritairlines       8\n",
       "387    @love_dragonss       7\n",
       "164    @cowboycerrone       7\n",
       "30         @aircanada       6\n",
       "152              @cnn       6\n",
       "204   @dulles_airport       6\n",
       "563     @staralliance       6\n",
       "266           @gg8929       6\n",
       "660              @wsj       6"
      ]
     },
     "execution_count": 5,
     "metadata": {},
     "output_type": "execute_result"
    }
   ],
   "source": [
    "atUser = pd.DataFrame(columns=['atUser'])\n",
    "hashTag = pd.DataFrame(columns=['hashTag'])\n",
    "\n",
    "#Method to find regex pattern - used for finding \"@\"s and \"#\"s\n",
    "def getAtUsers(text, pattern):\n",
    "    return pattern.findall(text)\n",
    "\n",
    "#find airlines mentioned with \"@\"\n",
    "atUserRe = re.compile(r'@\\w+')\n",
    "for t in airlineTweets[\"text\"]:\n",
    "    for user in getAtUsers(t, atUserRe):\n",
    "        atUser = atUser.append({\"atUser\": user},ignore_index=True)\n",
    "        \n",
    "atAirCount = atUser.groupby([\"atUser\"]).size().reset_index(name='counts').sort_values(by=['counts'], ascending=False).head(20)\n",
    "atAirCount"
   ]
  },
  {
   "cell_type": "code",
   "execution_count": 37,
   "metadata": {},
   "outputs": [
    {
     "data": {
      "text/plain": [
       "Text(0, 0.5, 'counts')"
      ]
     },
     "execution_count": 37,
     "metadata": {},
     "output_type": "execute_result"
    },
    {
     "data": {
      "image/png": "[encoded data removed]",
      "text/plain": [
       "<Figure size 432x288 with 1 Axes>"
      ]
     },
     "metadata": {
      "needs_background": "light"
     },
     "output_type": "display_data"
    }
   ],
   "source": [
    "import matplotlib.pyplot as plt\n",
    "#atAirCount = atAirCount.set_index('atUser')\n",
    "aa = atAirCount.set_index(\"atUser\")\n",
    "aa.index.name=\"airline\"\n",
    "plot = aa.head(7).plot(kind=\"bar\",alpha=0.5, title=\"airline tweet count\")\n",
    "plot.set_ylabel(\"counts\")\n"
   ]
  },
  {
   "cell_type": "code",
   "execution_count": null,
   "metadata": {},
   "outputs": [],
   "source": []
  },
  {
   "cell_type": "code",
   "execution_count": null,
   "metadata": {},
   "outputs": [],
   "source": [
    "df = pd.DataFrame(columns=['A'])\n",
    "df.append({\"A\": \"anc\"}, ignore_index=True)"
   ]
  }
 ],
 "metadata": {
  "kernelspec": {
   "display_name": "Python 3",
   "language": "python",
   "name": "python3"
  },
  "language_info": {
   "codemirror_mode": {
    "name": "ipython",
    "version": 3
   },
   "file_extension": ".py",
   "mimetype": "text/x-python",
   "name": "python",
   "nbconvert_exporter": "python",
   "pygments_lexer": "ipython3",
   "version": "3.7.0"
  }
 },
 "nbformat": 4,
 "nbformat_minor": 2
}
