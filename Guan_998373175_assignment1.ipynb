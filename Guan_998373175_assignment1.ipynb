{
 "cells": [
  {
   "cell_type": "markdown",
   "metadata": {},
   "source": [
    "# Assignment\n",
    "\n",
    "pip 3 install all libraries. "
   ]
  },
  {
   "cell_type": "code",
   "execution_count": 1,
   "metadata": {},
   "outputs": [
    {
     "name": "stdout",
     "output_type": "stream",
     "text": [
      "Requirement already satisfied: numpy in /usr/local/lib/python3.7/site-packages (1.15.3)\n",
      "Requirement already satisfied: pandas in /usr/local/lib/python3.7/site-packages (0.23.4)\n",
      "Requirement already satisfied: pytz>=2011k in /usr/local/lib/python3.7/site-packages (from pandas) (2018.7)\n",
      "Requirement already satisfied: numpy>=1.9.0 in /usr/local/lib/python3.7/site-packages (from pandas) (1.15.3)\n",
      "Requirement already satisfied: python-dateutil>=2.5.0 in /usr/local/lib/python3.7/site-packages (from pandas) (2.7.5)\n",
      "Requirement already satisfied: six>=1.5 in /usr/local/lib/python3.7/site-packages (from python-dateutil>=2.5.0->pandas) (1.11.0)\n",
      "Requirement already satisfied: sklearn in /usr/local/lib/python3.7/site-packages (0.0)\n",
      "Requirement already satisfied: scikit-learn in /usr/local/lib/python3.7/site-packages (from sklearn) (0.20.0)\n",
      "Requirement already satisfied: numpy>=1.8.2 in /usr/local/lib/python3.7/site-packages (from scikit-learn->sklearn) (1.15.3)\n",
      "Requirement already satisfied: scipy>=0.13.3 in /usr/local/lib/python3.7/site-packages (from scikit-learn->sklearn) (1.1.0)\n",
      "Requirement already satisfied: textblob in /usr/local/lib/python3.7/site-packages (0.15.1)\n",
      "Requirement already satisfied: nltk>=3.1 in /usr/local/lib/python3.7/site-packages (from textblob) (3.3)\n",
      "Requirement already satisfied: six in /usr/local/lib/python3.7/site-packages (from nltk>=3.1->textblob) (1.11.0)\n"
     ]
    }
   ],
   "source": [
    "!pip3 install numpy\n",
    "!pip3 install pandas\n",
    "!pip3 install sklearn\n",
    "!pip3 install textblob\n",
    "\n",
    "import numpy as np\n",
    "import pandas as pd\n",
    "import matplotlib.pyplot as plt\n",
    "import pylab as pl\n",
    "import re\n",
    "import html\n",
    "\n",
    "from textblob import TextBlob\n",
    "\n",
    "from sklearn import preprocessing\n",
    "from sklearn.model_selection import train_test_split\n",
    "from sklearn.feature_extraction.text import CountVectorizer\n",
    "from sklearn.linear_model import LogisticRegression\n",
    "from sklearn.metrics import accuracy_score\n",
    "from sklearn.metrics import classification_report\n",
    "from sklearn.metrics import confusion_matrix\n",
    "\n",
    "%matplotlib inline"
   ]
  },
  {
   "cell_type": "markdown",
   "metadata": {},
   "source": [
    "## 1. Data Cleaning\n",
    "\n",
    "Before feature extraction, date should be cleaned to obatin better features. Data Pre-processing will be preformed in this section.\n",
    "\n",
    "First load files from current directory into panda data frame"
   ]
  },
  {
   "cell_type": "code",
   "execution_count": 2,
   "metadata": {},
   "outputs": [],
   "source": [
    "stops = open(\"stop_words.txt\",\"r\")\n",
    "stopWords = stops.read().replace('\\t','\\n').split('\\n')\n",
    "airlineTweets = pd.read_csv(\"US_airline_tweets.csv\")\n",
    "genericTweets = pd.read_csv(\"generic_tweets.txt\")"
   ]
  },
  {
   "cell_type": "markdown",
   "metadata": {},
   "source": [
    "Next step is to **Define data cleaning methods:**\n",
    "\n",
    "Beside the basic cleaning method mentioned in assignent instructions (html, ascii,url,lowercase etc), I also inplemented Spelling correction - removing spelling mistakes that would help reducing multiple copies of words. **Please Note spelling correction has extremly long running time so I ended up commenting it out**."
   ]
  },
  {
   "cell_type": "code",
   "execution_count": 3,
   "metadata": {},
   "outputs": [],
   "source": [
    "#Method 1 - Remove all non ASCII charaters such as 'å'\n",
    "def non_ascii_rm(text):\n",
    "    allAscii = text.encode(\"ascii\", errors=\"ignore\").decode()\n",
    "    return allAscii\n",
    "    \n",
    "#Method 2 - Remove all html tags and attributes\n",
    "def html_tag_rm(text):\n",
    "    noTag = re.compile(r\"<.*?>\").sub(\"\", text)\n",
    "    return noTag\n",
    "\n",
    "#Method 3 - Replace Html character codes with ASCII equivalent\n",
    "def ascii_rpl(text):\n",
    "    return(html.unescape(text))\n",
    "\n",
    "#Method 4 - Remove all URLs\n",
    "def url_rm(text):\n",
    "    return(re.compile(r\"\\w+://\\S*\").sub(\"\", text))\n",
    "\n",
    "#Method 5 - Spelling correction\n",
    "#def spell_correct(text):\n",
    "#    return(str(TextBlob(text).correct()))\n",
    "\n",
    "#Method 6 - Remove all stopwords - loaded from stopword.txt\n",
    "def stop_words_rm(stopWords,text):\n",
    "    filtered_words = [word for word in text.split(\" \") if word not in stopWords]\n",
    "    return filtered_words\n",
    "\n",
    "#Wraper function to preform all data cleaning method\n",
    "def cleanText(text):\n",
    "    global stopWords\n",
    "    allAscii = non_ascii_rm(text.lower()) #make sure all lowercase\n",
    "    noTag = html_tag_rm(allAscii) \n",
    "    asciiRpl = ascii_rpl(noTag)\n",
    "    noUrl = url_rm(asciiRpl)\n",
    "    #spellCorrect = spell_correct(noUrl)\n",
    "    #noStopWords = stop_words_rm(stopWords, spellCorrect)\n",
    "    noStopWords = stop_words_rm(stopWords, noUrl)\n",
    "    return(\" \".join(noStopWords))"
   ]
  },
  {
   "cell_type": "markdown",
   "metadata": {},
   "source": [
    "**Clean Data using methods defined above**<br>\n",
    "Cleaned data are saved as csv files in local directory for future usage"
   ]
  },
  {
   "cell_type": "code",
   "execution_count": 4,
   "metadata": {},
   "outputs": [],
   "source": [
    "cleandata = lambda x: cleanText(x)\n",
    "genericTweets[\"text\"] = genericTweets[\"text\"].map(cleandata)\n",
    "airlineTweets[\"text\"] = airlineTweets[\"text\"].map(cleandata)\n",
    "\n",
    "genericTweets.to_csv(\"generic_tweets_clean.csv\")\n",
    "airlineTweets.to_csv(\"US_airline_tweets_clean.csv\")"
   ]
  },
  {
   "cell_type": "markdown",
   "metadata": {},
   "source": [
    "## 2. Exploratory Analysis\n",
    "\n",
    "To determine the airline of a given tweet, my design is to look are the '@' of each tweets to find the corresponding airlines names. Taking into consideration a tweet can also @ another user instead of the airline, the results are sorting by @ frequency with top 7 results as airline names."
   ]
  },
  {
   "cell_type": "code",
   "execution_count": 5,
   "metadata": {},
   "outputs": [
    {
     "data": {
      "text/html": [
       "<div>\n",
       "<style scoped>\n",
       "    .dataframe tbody tr th:only-of-type {\n",
       "        vertical-align: middle;\n",
       "    }\n",
       "\n",
       "    .dataframe tbody tr th {\n",
       "        vertical-align: top;\n",
       "    }\n",
       "\n",
       "    .dataframe thead th {\n",
       "        text-align: right;\n",
       "    }\n",
       "</style>\n",
       "<table border=\"1\" class=\"dataframe\">\n",
       "  <thead>\n",
       "    <tr style=\"text-align: right;\">\n",
       "      <th></th>\n",
       "      <th>atUser</th>\n",
       "      <th>counts</th>\n",
       "    </tr>\n",
       "  </thead>\n",
       "  <tbody>\n",
       "    <tr>\n",
       "      <th>626</th>\n",
       "      <td>@united</td>\n",
       "      <td>3192</td>\n",
       "    </tr>\n",
       "    <tr>\n",
       "      <th>636</th>\n",
       "      <td>@usairways</td>\n",
       "      <td>2607</td>\n",
       "    </tr>\n",
       "    <tr>\n",
       "      <th>47</th>\n",
       "      <td>@americanair</td>\n",
       "      <td>2462</td>\n",
       "    </tr>\n",
       "    <tr>\n",
       "      <th>556</th>\n",
       "      <td>@southwestair</td>\n",
       "      <td>1788</td>\n",
       "    </tr>\n",
       "    <tr>\n",
       "      <th>318</th>\n",
       "      <td>@jetblue</td>\n",
       "      <td>1519</td>\n",
       "    </tr>\n",
       "    <tr>\n",
       "      <th>648</th>\n",
       "      <td>@virginamerica</td>\n",
       "      <td>344</td>\n",
       "    </tr>\n",
       "    <tr>\n",
       "      <th>181</th>\n",
       "      <td>@delta</td>\n",
       "      <td>60</td>\n",
       "    </tr>\n",
       "    <tr>\n",
       "      <th>488</th>\n",
       "      <td>@phlairport</td>\n",
       "      <td>17</td>\n",
       "    </tr>\n",
       "    <tr>\n",
       "      <th>299</th>\n",
       "      <td>@imaginedragons</td>\n",
       "      <td>17</td>\n",
       "    </tr>\n",
       "    <tr>\n",
       "      <th>188</th>\n",
       "      <td>@dfwairport</td>\n",
       "      <td>12</td>\n",
       "    </tr>\n",
       "  </tbody>\n",
       "</table>\n",
       "</div>"
      ],
      "text/plain": [
       "              atUser  counts\n",
       "626          @united    3192\n",
       "636       @usairways    2607\n",
       "47      @americanair    2462\n",
       "556    @southwestair    1788\n",
       "318         @jetblue    1519\n",
       "648   @virginamerica     344\n",
       "181           @delta      60\n",
       "488      @phlairport      17\n",
       "299  @imaginedragons      17\n",
       "188      @dfwairport      12"
      ]
     },
     "execution_count": 5,
     "metadata": {},
     "output_type": "execute_result"
    }
   ],
   "source": [
    "atUser = pd.DataFrame(columns=['atUser'])\n",
    "\n",
    "#Method to find regex pattern - used for finding \"@\"s\n",
    "def getAtUsers(text, pattern):\n",
    "    return pattern.findall(text)\n",
    "\n",
    "#find airlines mentioned with \"@\"\n",
    "atUserRe = re.compile(r'@\\w+')\n",
    "for t in airlineTweets[\"text\"]:\n",
    "    for user in getAtUsers(t, atUserRe):\n",
    "        atUser = atUser.append({\"atUser\": user},ignore_index=True)\n",
    "        \n",
    "#count the number of @s within Airline tweets and find most frequent @\n",
    "atAirCount = atUser.groupby([\"atUser\"]).size().reset_index(name='counts').sort_values(by=['counts'], ascending=False).head(10)\n",
    "atAirCount"
   ]
  },
  {
   "cell_type": "markdown",
   "metadata": {},
   "source": [
    "\n",
    "With the frequency data gathered above, a bar chart is created below to show the distrubution of the 7 major Airlines. As a result, **United Airline has the most comments** of 3192 tweets following by Us Airways, and American Air.\n"
   ]
  },
  {
   "cell_type": "code",
   "execution_count": 6,
   "metadata": {},
   "outputs": [
    {
     "data": {
      "text/plain": [
       "Text(0, 0.5, 'Number of Tweets')"
      ]
     },
     "execution_count": 6,
     "metadata": {},
     "output_type": "execute_result"
    },
    {
     "data": {
      "image/png": "[encoded data removed]",
      "text/plain": [
       "<Figure size 720x576 with 1 Axes>"
      ]
     },
     "metadata": {
      "needs_background": "light"
     },
     "output_type": "display_data"
    }
   ],
   "source": [
    "#atAirCount = atAirCount.set_index('atUser')\n",
    "aa = atAirCount.set_index(\"atUser\")\n",
    "aa.index.name=\"Airline\"\n",
    "plot = aa.head(7).plot(kind=\"bar\",alpha=0.5, title=\"Airline Tweets Count\",figsize=(10,8))\n",
    "plot.set_ylabel(\"Number of Tweets\")"
   ]
  },
  {
   "cell_type": "markdown",
   "metadata": {},
   "source": [
    "Plot a histograms from generic tweets to see the distribution of tweet useful length (after cleaning) for both positive and negative sentiment score. The resulting distribution is similar with slightly more shorter negative reviews."
   ]
  },
  {
   "cell_type": "code",
   "execution_count": 7,
   "metadata": {},
   "outputs": [
    {
     "data": {
      "text/plain": [
       "Text(0.5, 0.5, 'Number of Tweets')"
      ]
     },
     "execution_count": 7,
     "metadata": {},
     "output_type": "execute_result"
    },
    {
     "data": {
      "image/png": "[encoded data removed]",
      "text/plain": [
       "<Figure size 432x288 with 2 Axes>"
      ]
     },
     "metadata": {
      "needs_background": "light"
     },
     "output_type": "display_data"
    }
   ],
   "source": [
    "pltRename = genericTweets.copy()\n",
    "pltRename['class'] = pltRename['class'].apply(lambda x: 'Positive Sentiment' if x > 0 else 'Negative Sentiment')\n",
    "pltRename['length'] = pltRename['text'].apply(len)\n",
    "\n",
    "fig, axes = plt.subplots(nrows=1, ncols=2, sharex=True, sharey=True)\n",
    "pltRename.hist('length',by='class',alpha=0.5,ax=axes)\n",
    "\n",
    "plt.suptitle('Distribution of Tweet length', x=0.5, y=1.05, ha='center', fontsize='xx-large')\n",
    "fig.text(0.5, 0.04, 'Tweet Length', ha='center')\n",
    "fig.text(0.5, 0.5, 'Number of Tweets', va='center', rotation='vertical')\n"
   ]
  },
  {
   "cell_type": "markdown",
   "metadata": {},
   "source": [
    "## 3. Model Preparation\n",
    "\n",
    "Generic tweets are splited into 70% Training data and 30% Test data. **Word frequency** is used as the deatrues of the model.\n",
    "\n",
    "The pros of using this model includes:\n",
    "    -  Easy to scale\n",
    "    -  fast development\n",
    "    -  robust\n",
    " \n",
    "The cons are:\n",
    "    -  Requires large annotation\n",
    "    -  may be difficult to debug\n",
    "    -  fail in short messages\n",
    "    -  only shallow NLP"
   ]
  },
  {
   "cell_type": "code",
   "execution_count": 8,
   "metadata": {},
   "outputs": [],
   "source": [
    "genClean = pd.read_csv(\"generic_tweets_clean.csv\")\n",
    "airClean = pd.read_csv(\"US_airline_tweets_clean.csv\")"
   ]
  },
  {
   "cell_type": "code",
   "execution_count": 9,
   "metadata": {},
   "outputs": [],
   "source": [
    "#Adding a deepclean method to slightly increase model accuracy\n",
    "def deepClean(text):\n",
    "    text = str(text)\n",
    "    #remove @\n",
    "    #text = re.sub(r'@\\S+', '', text)\n",
    "    #remove punctuation\n",
    "    text = re.sub(r'[^\\w\\s]', '', text)\n",
    "    #remove number\n",
    "    text = re.sub(r'\\b\\d+\\b', '', text)\n",
    "    return text\n",
    "\n",
    "cleandata = lambda x: deepClean(x)\n",
    "genClean[\"text\"] = genClean[\"text\"].map(cleandata)\n",
    "airClean[\"text\"] = airClean[\"text\"].map(cleandata)\n",
    "    "
   ]
  },
  {
   "cell_type": "code",
   "execution_count": 10,
   "metadata": {},
   "outputs": [],
   "source": [
    "#Prepare feature - word frequency\n",
    "cv = CountVectorizer(binary=True)\n",
    "cv.fit(genClean.text)\n",
    "X = cv.transform(genClean.text)\n",
    "target = genClean[\"class\"]\n",
    "\n",
    "#Split generic tweet into 70% train and 30% test\n",
    "X_train, X_val, y_train, y_val = train_test_split(X, target , test_size=0.3, random_state=42)"
   ]
  },
  {
   "cell_type": "markdown",
   "metadata": {},
   "source": [
    "## 4. Model Implementation\n",
    "\n",
    "Training the logistric regreassion model with 70% training data and apply to test data fron generic tweets to obtain the highest achievable accuracy by testing different c values. C = 0.5 is select based on testing results. <br>\n",
    "\n",
    "Because the sentiment in airline tweet are marked as \"positive\" and \"negative\" instead of numeric value, I'm also renaming \"positive\" to \"4\" and negative to \"0\" to match the values in generic tweets.\n",
    "\n",
    "Apply the model to airline tweets and obtained a accuracy of **75.4%**"
   ]
  },
  {
   "cell_type": "code",
   "execution_count": 11,
   "metadata": {},
   "outputs": [
    {
     "name": "stderr",
     "output_type": "stream",
     "text": [
      "/usr/local/lib/python3.7/site-packages/sklearn/linear_model/logistic.py:432: FutureWarning: Default solver will be changed to 'lbfgs' in 0.22. Specify a solver to silence this warning.\n",
      "  FutureWarning)\n"
     ]
    },
    {
     "name": "stdout",
     "output_type": "stream",
     "text": [
      "Accuracy for C=0.01: 0.72425\n",
      "Accuracy for C=0.05: 0.7375333333333334\n",
      "Accuracy for C=0.25: 0.7425166666666667\n",
      "Accuracy for C=0.5: 0.7427166666666667\n",
      "Accuracy for C=1: 0.7415833333333334\n",
      "\n",
      "Accuracy of Model on airline Tweets: 0.7540074516939607\n",
      "\n",
      "Confusion Matrix:\n",
      "[[6893 2285]\n",
      " [ 554 1809]]\n"
     ]
    }
   ],
   "source": [
    "#finding best C value for LR with 70% training data and apply to test data\n",
    "for c in [0.01, 0.05, 0.25, 0.5, 1]:\n",
    "    lr = LogisticRegression(C=c)\n",
    "    lr.fit(X_train, y_train)\n",
    "    print (\"Accuracy for C=%s: %s\" \n",
    "           % (c, accuracy_score(y_val, lr.predict(X_val))))\n",
    "\n",
    "#prepare airline feature\n",
    "X_test = cv.transform(airClean.text)\n",
    "y_test_target = [4 if s == \"positive\" else 0 for s in airClean.sentiment]\n",
    "\n",
    "#use the same model to test data with accuracy obtained below\n",
    "model_b = LogisticRegression(C=0.5)\n",
    "model_b.fit(X_train, y_train)\n",
    "print (\"\\nAccuracy of Model on airline Tweets: %s\\n\" \n",
    "       % accuracy_score(y_test_target, model_b.predict(X_test)))\n",
    "\n",
    "print(\"Confusion Matrix:\")\n",
    "print(confusion_matrix(y_test_target,model_b.predict(X_test)))"
   ]
  },
  {
   "cell_type": "markdown",
   "metadata": {},
   "source": [
    "To slightly improve the accuracy, re-train the model with 100% generic tweets and apply to airline data and obtained a higher accuracy **75.8%** <br>\n",
    "\n",
    "Confusion Matrix of new model is [[6925 2253][536 1827]]\n",
    "\n",
    "Top 10 Positive and Negetive Words are obtained. A a interesting result, **followfriday** is the Top 1 positive word which is also understandable since it is a very popular & friendly hashtag on tweeter. *Follow Friday is when, on a Friday, people show each other some Twitter love, by recommending to their followers who they recommend to follow. It was invented by Twitter users. And it's usually preceded by the hash sign – as in #FF or #FollowFriday.*"
   ]
  },
  {
   "cell_type": "code",
   "execution_count": 12,
   "metadata": {},
   "outputs": [
    {
     "name": "stdout",
     "output_type": "stream",
     "text": [
      "88888768786876868\n",
      "[0 4 0 ... 0 0 0]\n",
      "Improved Accuracy with model trained with 100 generic tweet data: 0.7583398319036478\n",
      "\n",
      "              precision    recall  f1-score   support\n",
      "\n",
      "           0       0.93      0.75      0.83      9178\n",
      "           4       0.45      0.77      0.57      2363\n",
      "\n",
      "   micro avg       0.76      0.76      0.76     11541\n",
      "   macro avg       0.69      0.76      0.70     11541\n",
      "weighted avg       0.83      0.76      0.78     11541\n",
      "\n",
      "Confusion Matrix:\n",
      "[[6925 2253]\n",
      " [ 536 1827]]\n",
      "\n",
      "Top 10 Positive Word\n",
      "('followfriday', 1.9508693115208233)\n",
      "('welcome', 1.9429420303342138)\n",
      "('yayy', 1.838907084598249)\n",
      "('congratulations', 1.8387150042190867)\n",
      "('smiling', 1.8240324975355557)\n",
      "('thankyou', 1.7599389482298629)\n",
      "('smile', 1.7058380951129575)\n",
      "('blessed', 1.7022632668261246)\n",
      "('pleasure', 1.6790047586114887)\n",
      "('thx', 1.6244011804267375)\n",
      "-------------------------------\n",
      " Top 10 Negative Word\n",
      "('sad', -3.1207758490957187)\n",
      "('sadly', -2.93857625127804)\n",
      "('mothers', -2.6584927963356413)\n",
      "('bummed', -2.6200204921717596)\n",
      "('poor', -2.488692750387413)\n",
      "('gutted', -2.4617861289734537)\n",
      "('lonely', -2.4113582206573674)\n",
      "('missing', -2.377251522409668)\n",
      "('hates', -2.2965844803327067)\n",
      "('misses', -2.293796585476469)\n"
     ]
    }
   ],
   "source": [
    "#Now build the LR model 100% data from Generic tweets\n",
    "final_model = LogisticRegression(C=0.5)\n",
    "final_model.fit(X, target)\n",
    "\n",
    "prediction = final_model.predict(X_test)\n",
    "print(prediction.)\n",
    "print (\"Improved Accuracy with model trained with 100 generic tweet data: %s\\n\" \n",
    "       % accuracy_score(y_test_target, prediction))\n",
    "\n",
    "print(classification_report(y_test_target,prediction))\n",
    "print(\"Confusion Matrix:\")\n",
    "print(confusion_matrix(y_test_target,prediction))\n",
    "\n",
    "#print freq words\n",
    "feature_to_coef = {\n",
    "    word: coef for word, coef in zip(\n",
    "        cv.get_feature_names(), final_model.coef_[0]\n",
    "    )\n",
    "}\n",
    "\n",
    "print(\"\\nTop 10 Positive Word\")\n",
    "for best_positive in sorted(\n",
    "    feature_to_coef.items(), \n",
    "    key=lambda x: x[1], \n",
    "    reverse=True)[:10]:\n",
    "    print (best_positive)\n",
    "\n",
    "print(\"-------------------------------\\n Top 10 Negative Word\")\n",
    "\n",
    "for best_negative in sorted(\n",
    "    feature_to_coef.items(), \n",
    "    key=lambda x: x[1])[:10]:\n",
    "    print (best_negative)"
   ]
  },
  {
   "cell_type": "markdown",
   "metadata": {},
   "source": [
    "**Negative** US airline tweets are selected by removing tweets with no \"negative_reason\". The negative tweets are divided into 70% training and 30% Testing data and a multi-class logistic regression model are built. **Word frequncy** analysis is used."
   ]
  },
  {
   "cell_type": "code",
   "execution_count": 13,
   "metadata": {},
   "outputs": [
    {
     "name": "stdout",
     "output_type": "stream",
     "text": [
      "Final Accuracy: 0.6082062454611474\n",
      "              precision    recall  f1-score   support\n",
      "\n",
      "           0       0.93      0.75      0.83      9178\n",
      "           4       0.45      0.77      0.57      2363\n",
      "\n",
      "   micro avg       0.76      0.76      0.76     11541\n",
      "   macro avg       0.69      0.76      0.70     11541\n",
      "weighted avg       0.83      0.76      0.78     11541\n",
      "\n",
      "Confusion Matrix:\n",
      "[[ 43  25   0  45   0   3   4  35   4   0]\n",
      " [  8 170   3 144   0   1   1  25   7   0]\n",
      " [  1  14 184  39   0   0   1  18   4   0]\n",
      " [  6  77  25 697   0   8  17  32  13   0]\n",
      " [  0   1   0   5   0   0   0   0  14   0]\n",
      " [  6  12   0  65   0  25   1  18  10   0]\n",
      " [  4  18   6  77   0   1  29   8   2   0]\n",
      " [  8  50   9  64   0   1   2 375   8   0]\n",
      " [  0  18   0  33   0   2   0  21 151   1]\n",
      " [  5   4   2  18   0   0   0  19   6   1]]\n"
     ]
    }
   ],
   "source": [
    "dfReasons = airClean.query('negative_reason == negative_reason').copy()\n",
    "\n",
    "#atUser.groupby([\"atUser\"]).size().reset_index(name='counts').sort_values(by=['counts'], ascending=False).head(10)\n",
    "#reasons = dfReasons.negative_reason.unique()\n",
    "#print(dfReasons.shape)\n",
    "#print(le.fit_transform(dfReasons[\"negative_reason\"]).shape)\n",
    "\n",
    "le = preprocessing.LabelEncoder()\n",
    "dfReasons[\"negative_reason\"] = le.fit_transform(dfReasons[\"negative_reason\"])\n",
    "\n",
    "\n",
    "cv = CountVectorizer(binary=True)\n",
    "cv.fit(dfReasons.text)\n",
    "X = cv.transform(dfReasons.text)\n",
    "target = dfReasons.negative_reason\n",
    "\n",
    "X_train, X_val, y_train, y_val = train_test_split(X, target , test_size=0.3, random_state=42)\n",
    "\n",
    "final_model = LogisticRegression(C=0.1, solver='lbfgs',\n",
    "                         multi_class='multinomial')\n",
    "final_model.fit(X_train, y_train)\n",
    "\n",
    "prediction2 = final_model.predict(X_val)\n",
    "print (\"Final Accuracy: %s\" \n",
    "       % accuracy_score(y_val, prediction2))\n",
    "\n",
    "print(classification_report(y_test_target,prediction))\n",
    "print(\"Confusion Matrix:\")\n",
    "print (confusion_matrix(y_val,prediction2))\n"
   ]
  },
  {
   "cell_type": "markdown",
   "metadata": {},
   "source": [
    "answer the research question stated above based on the outputs of your first model. Some people were wondering why they should analyze the sentiments of the airline tweets based on the prediction of the logistic regression model if the ground truth labels were already given. The goal of the assignment is to perform sentiments analysis from generic tweets and use the result to analyze US airline tweets. Therefore, you should discuss the result from the sentiment analysis as if the ground truth labels were not given. These labels were only provided as a reference so you have a sense of whether your logistic regression model was working."
   ]
  },
  {
   "cell_type": "markdown",
   "metadata": {},
   "source": [
    "## 5. Discussion\n",
    "\n",
    "**“What can public opinion on Twitter tell us about the US airlines in 2015?”** <br>\n",
    "\n",
    "Only looking at the number of tweets, **United Airline** seems to be the most popular airline in 2015 since it has the most comments of 3192 tweets following by Us Airways, and American Air. \n",
    "\n",
    "Among the negative reviews, **customer service Issue** received the most number of complaints. A big portion of the complaints are regarding issues for online/phone/website support. Customers are expecting prompt reply when they encourted problems with booking/managing their flights. Long wait time before reaching support team would result in negative tweets. The second most popular negative review reason is **Late Flght**.\n",
    "\n",
    "Similar result can be obtained from the Top 10 Positive and Negative words (in bonus section below). **\"canceled\"**, **\"late\"** and **\"delayed\"** are the top *Negative* words, which tells us that a timely operation is very important for airline customers in 2015. For the *positive* words, **\"wifi\"** scored a 1.55 which is significatly higher than the rest of positive words. It shows **a good wifi could potential improve customer experience by a lot**.\n",
    "\n",
    "Based on the output of the first model\n",
    "\n",
    "**Prediction Examples**<br>\n",
    "From the confusion matrix of the second model, we can see it failed to classify all tweets with the reason **\"damaged luggage\"**. The failure of prediction could be the reason of insufficient Training data, since there were only 74 entry in total with \"damaged luggage\". Since the model was built with word frequency, insufficient data could result in missing key words when calculating sentiment score. \n",
    "\n",
    "For example, \"@USAirways Oh yes, because I had loads of time running to my connecting flight after you delayed me for about 90 minutes...!\" is a tweet with \"damaged luggage\" which the model failed to predict. There were no key word related to \"luggage\", \"baggage\" or \"damage\" but has the key word \"delayed\" which is closer to the reason of \"late flight\"\n",
    "\n",
    "\"@AmericanAir haha I did. They said it wasn't their fault somehow? You guys r a joke!\" and \"@AmericanAir how do I see your report team?!\" are a tweet the model failed to predict due to similar reasons. \n",
    "\n",
    "**Improve Model Accuracy**<br>\n",
    "There are many ways to improve the accuracy of the model, examples including:\n",
    "\n",
    "1. **Better data cleaning**: Preform better pre-processing of the data will help to extract better features from clean data. Some methods that was not implemented in this project such as:\n",
    "    -  removing rare words: Since these works are so rarly used, the association between them and other workds is dominated by noise. It will be usedul to replace rare words with a more general form to have higher counts\n",
    "    -  Stemming: remove suffices such as \"es\", \"s\",\"ed\" to reduce multiple copies of same words\n",
    "    -  Lemmatization: converting words into root word also to reduce multiple copies of same words.<br><br>\n",
    "    \n",
    "2. Test with other text processing model such as **N-grams** which is to combining multiple works together.<br><br>\n",
    "\n",
    "3. **Increase data size**: Similar to what was demonstrated in **Question 4 Model Inplementation**, more data could result in improved accuracy. The model trained with 70% generic tweets obtained a accuracy of **75.1%** when applied to airline tweets; while the model trained with 100% generic tweets obtained a slightly higher accuracy of  **75.8%**<br><br>\n",
    "\n",
    "4. **Evaluate the data collected**: Generic tweets data has a more balanced negative and positive reviews. However the airline tweets tend to be more biased with a lot more negative tweets which could protentially effect the model accuracy. **Stratified split** in sklearn can be used to shuffle and split data to account for class imbalance problem. **GridSearch** is also a technique can be used as well.\n"
   ]
  },
  {
   "cell_type": "markdown",
   "metadata": {},
   "source": [
    "## Bonus\n",
    "\n",
    "**Look for the Top 10 Positive and Negative words by analyzing Airline Tweets data.**\n",
    "\n",
    "**\"canceled\"**, **\"late\"** and **\"delayed\"** are the top *Negative* words, which tells us that a timely operation is very important for airline customers in 2015. For the *positive* words, **\"wifi\"** scored a 1.55 which is significatly higher than the rest of positive words. It shows **a good wifi could potential improve customer experience by a lot**. Other features like big **\"seat\"** space, **\"tv\"\"** and also **\"food\"** offered on plane would also improve customer experience."
   ]
  },
  {
   "cell_type": "code",
   "execution_count": 14,
   "metadata": {},
   "outputs": [
    {
     "name": "stdout",
     "output_type": "stream",
     "text": [
      "-------------------------------\n",
      "Top 10 Positive Word\n",
      "('wifi', 1.5542879400379268)\n",
      "('seat', 1.0767590935301128)\n",
      "('plane', 1.02162554623528)\n",
      "('seats', 0.9079506218176506)\n",
      "('tv', 0.7362806401447026)\n",
      "('planes', 0.5654249442897915)\n",
      "('landing', 0.5271930383390225)\n",
      "('flight', 0.5121620688823967)\n",
      "('class', 0.4902950195010596)\n",
      "('food', 0.42939618666095497)\n",
      "-------------------------------\n",
      " Top 10 Negative Word\n",
      "('cancelled', -0.6380523401965521)\n",
      "('late', -0.46359802101588377)\n",
      "('hours', -0.46118774397582146)\n",
      "('delayed', -0.4476821178451489)\n",
      "('bag', -0.37091940028401765)\n",
      "('airport', -0.35958086233654657)\n",
      "('help', -0.3516744368353899)\n",
      "('phone', -0.3393041805200876)\n",
      "('hold', -0.33870580887941976)\n",
      "('customers', -0.3177442842661544)\n"
     ]
    }
   ],
   "source": [
    "#print freq words\n",
    "feature_to_coef = {\n",
    "    word: coef for word, coef in zip(\n",
    "        cv.get_feature_names(), final_model.coef_[0]\n",
    "    )\n",
    "}\n",
    "\n",
    "print(\"-------------------------------\\nTop 10 Positive Word\")\n",
    "for best_positive in sorted(\n",
    "    feature_to_coef.items(), \n",
    "    key=lambda x: x[1], \n",
    "    reverse=True)[:10]:\n",
    "    print (best_positive)\n",
    "\n",
    "print(\"-------------------------------\\n Top 10 Negative Word\")\n",
    "\n",
    "for best_negative in sorted(\n",
    "    feature_to_coef.items(), \n",
    "    key=lambda x: x[1])[:10]:\n",
    "    print (best_negative)"
   ]
  },
  {
   "cell_type": "code",
   "execution_count": 15,
   "metadata": {},
   "outputs": [],
   "source": [
    "atUserScore = pd.DataFrame(columns=['atUser','score'])\n",
    "\n",
    "#find airlines mentioned with \"@\"\n",
    "atUserRe = re.compile(r'@\\w+')\n",
    "for index, row in airlineTweets.iterrows():\n",
    "    t = row.text\n",
    "    sen = row.sentiment\n",
    "    for user in getAtUsers(t, atUserRe):\n",
    "        atUserScore = atUserScore.append({\"atUser\": user, \"score\": sen},ignore_index=True)"
   ]
  },
  {
   "cell_type": "code",
   "execution_count": 16,
   "metadata": {
    "scrolled": true
   },
   "outputs": [],
   "source": [
    "userGroup = atUserScore.groupby([\"atUser\", \"score\"])\n",
    "divided = userGroup.size().reset_index(name='counts').sort_values(by=['counts'], ascending=False).head(12).sort_values(by=[\"atUser\"])\n",
    "allNegative = divided[\"score\"] == \"negative\"\n",
    "allNegative = divided[allNegative]\n",
    "allPositive = divided[\"score\"] == \"positive\"\n",
    "allPositive = divided[allPositive]"
   ]
  },
  {
   "cell_type": "markdown",
   "metadata": {},
   "source": [
    "**Plot showing the number of positive and negative tweets for each airlines**\n",
    "\n",
    "Tweets for each airline are extracted and divided into positive and negative tweets. A bar chart below shows the number of positve and negative tweets for each airline. From the diagram we can clearly see that **People tends to tweet more for negative experiences rather than positive in 2015.** For example, there were only 275 positive tweets for Us Airways while 2332 negative reviews; 353 positive and 2109 negative tweets for American Air.\n",
    "\n",
    "Only looking at the number of tweets, **United Airline** seems to be the most popular airline in 2015 since it has the most comments of 3192 tweets following by Us Airways, and American Air. However, looking into the number of negative and positive tweets, we may now say it is the most \"hated\" Airline in 2015 since it also has the highest number of negative reviews.\n",
    "\n",
    "Surprisingly, **the low cost airlines like Virgin, jet blue and south west seems to have better review score** (looking at the ratio between number of positive and negative tweets) **comparing to the other major airlines.** **Virgin America** is the most balanced airline with 191 negative and 153 positive reviews."
   ]
  },
  {
   "cell_type": "code",
   "execution_count": 17,
   "metadata": {},
   "outputs": [
    {
     "data": {
      "text/plain": [
       "<matplotlib.axes._subplots.AxesSubplot at 0x124f82da0>"
      ]
     },
     "execution_count": 17,
     "metadata": {},
     "output_type": "execute_result"
    },
    {
     "data": {
      "image/png": "[encoded data removed]",
      "text/plain": [
       "<Figure size 720x576 with 1 Axes>"
      ]
     },
     "metadata": {
      "needs_background": "light"
     },
     "output_type": "display_data"
    }
   ],
   "source": [
    "aTweets = pd.DataFrame(index = divided[\"atUser\"].drop_duplicates())\n",
    "aTweets[\"negative\"] = allNegative[\"counts\"].values\n",
    "aTweets[\"positive\"] = allPositive[\"counts\"].values\n",
    "aTweets.plot(kind='bar',title = \"Number of Negative and Positive Tweets for Each Airline\",figsize=(10,8))"
   ]
  }
 ],
 "metadata": {
  "kernelspec": {
   "display_name": "Python 3",
   "language": "python",
   "name": "python3"
  },
  "language_info": {
   "codemirror_mode": {
    "name": "ipython",
    "version": 3
   },
   "file_extension": ".py",
   "mimetype": "text/x-python",
   "name": "python",
   "nbconvert_exporter": "python",
   "pygments_lexer": "ipython3",
   "version": "3.7.0"
  }
 },
 "nbformat": 4,
 "nbformat_minor": 2
}
